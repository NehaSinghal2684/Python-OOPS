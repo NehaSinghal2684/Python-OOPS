{
  "nbformat": 4,
  "nbformat_minor": 0,
  "metadata": {
    "colab": {
      "provenance": []
    },
    "kernelspec": {
      "name": "python3",
      "display_name": "Python 3"
    },
    "language_info": {
      "name": "python"
    }
  },
  "cells": [
    {
      "cell_type": "markdown",
      "source": [
        "# **Theoretical Questions :**"
      ],
      "metadata": {
        "id": "OsffJsgbBX9B"
      }
    },
    {
      "cell_type": "markdown",
      "source": [
        "**Q1** What is Object-Oriented Programming (OOP)?  \n",
        "**Ans:** Object-Oriented Programming (OOP) is a programming paradigm that uses objects and classes to structure software programs. It aims to implement real-world entities like inheritance, hiding, polymorphism, etc., in programming. The main goal of OOP is to bind together the data and the functions that operate on them, ensuring that no other part of the code can access this data except through the defined functions .  \n",
        "**Key Concepts of OOP:** Class , Object ,Data Abstraction, Encapsulation,Inheritance ,Polymorphism etc.  \n",
        "**Benefits of OOP**  \n",
        "Modularity: OOP models complex things as reproducible, simple structures.  \n",
        "Reusability: OOP objects can be used across programs.  \n",
        "Polymorphism: Allows for class-specific behavior.  \n",
        "Easier Debugging: Classes often contain all applicable information to them.  \n",
        "Security: Protects sensitive information through encapsulation\n"
      ],
      "metadata": {
        "id": "Ze1uzWi8BooT"
      }
    },
    {
      "cell_type": "markdown",
      "source": [
        "**Q2** What is a class in OOP ?  \n",
        "**Ans**A class is a user-defined data type that acts as a blueprint for creating objects. It consists of data members and member functions, which can be accessed and used by creating an instance of that class.   \n",
        "For example, a class Car may have properties like wheels, speed_limit, and mileage .For Example: Consider the Class of Cars. There may be many cars with different names and brands but all of them will share some common properties like all of them will have 4 wheels, Speed Limit, Mileage range, etc. So here, Car is the class, and wheels, speed limits, mileage are their properties.\n",
        "\n"
      ],
      "metadata": {
        "id": "TVBQO-3xB8qq"
      }
    },
    {
      "cell_type": "markdown",
      "source": [
        "**Q3**.What is an object in OOP?  \n",
        "**Ans:** Object is a basic unit of Object-Oriented Programming and represents the real-life entities. An Object is an instance of a Class. When a class is defined, no memory is allocated but when it is instantiated (i.e. an object is created) memory is allocated. An object has an identity, state, and behavior. Each object contains data and code to manipulate the data. Objects can interact without having to know details of each other’s data or code, it is sufficient to know the type of message accepted and type of response returned by the objects.\n",
        "\n",
        "For example “Dog” is a real-life Object, which has some characteristics like color, Breed, Bark, Sleep, and Eats.\n",
        "\n"
      ],
      "metadata": {
        "id": "QvlwlKQfCOOc"
      }
    },
    {
      "cell_type": "markdown",
      "source": [
        "**Q4.** What is the difference between abstraction and encapsulation ?  \n",
        "**Ans:** Encapsulation and abstraction are two fundamental concepts in object-oriented programming (OOP). As a result, they play an essential role in the design and structure of classes and objects.    \n",
        "\n",
        "**Encapsulation:**  \n",
        "Definition: The bundling of data and methods that operate on the data into a single unit, with controlled access to the internal state.  \n",
        "\n",
        "Purpose: To protect an object’s internal state and expose a controlled interface.  \n",
        "\n",
        "Implementation: Achieved through private and protected members.  \n",
        "\n",
        "**Abstraction:**  \n",
        "Definition: The concept of hiding complex implementation details and showing only the essential features of an object.\n",
        "\n",
        "Purpose: To simplify interaction with objects by focusing on high-level operations rather than implementation details.\n",
        "\n",
        "Implementation: Achieved through abstract classes and methods, interfaces, and high-level class design."
      ],
      "metadata": {
        "id": "L6T_j2ucCdwf"
      }
    },
    {
      "cell_type": "markdown",
      "source": [
        "**Q5.**What are dunder methods in Python?  \n",
        "**Ans:** Python Magic methods are the methods starting and ending with double underscores ‘__’. They are defined by built-in classes in Python and commonly used for operator overloading.\n",
        "They are also called **Dunder methods**, Dunder here means “Double Under (Underscores)”.\n",
        "Python Magic Methods\n",
        "Built in classes define many magic methods, dir() function can show you magic methods inherited by a class.  \n",
        "Example:\n",
        "This code displays the magic methods inherited by int class."
      ],
      "metadata": {
        "id": "eb6915qHC3s8"
      }
    },
    {
      "cell_type": "code",
      "source": [
        "# code\n",
        "print(dir(int))"
      ],
      "metadata": {
        "colab": {
          "base_uri": "https://localhost:8080/"
        },
        "id": "6QJxvzcPxEpQ",
        "outputId": "d8aeba0a-9e05-40d1-b332-6fa3094005da"
      },
      "execution_count": null,
      "outputs": [
        {
          "output_type": "stream",
          "name": "stdout",
          "text": [
            "['__abs__', '__add__', '__and__', '__bool__', '__ceil__', '__class__', '__delattr__', '__dir__', '__divmod__', '__doc__', '__eq__', '__float__', '__floor__', '__floordiv__', '__format__', '__ge__', '__getattribute__', '__getnewargs__', '__getstate__', '__gt__', '__hash__', '__index__', '__init__', '__init_subclass__', '__int__', '__invert__', '__le__', '__lshift__', '__lt__', '__mod__', '__mul__', '__ne__', '__neg__', '__new__', '__or__', '__pos__', '__pow__', '__radd__', '__rand__', '__rdivmod__', '__reduce__', '__reduce_ex__', '__repr__', '__rfloordiv__', '__rlshift__', '__rmod__', '__rmul__', '__ror__', '__round__', '__rpow__', '__rrshift__', '__rshift__', '__rsub__', '__rtruediv__', '__rxor__', '__setattr__', '__sizeof__', '__str__', '__sub__', '__subclasshook__', '__truediv__', '__trunc__', '__xor__', 'as_integer_ratio', 'bit_count', 'bit_length', 'conjugate', 'denominator', 'from_bytes', 'imag', 'numerator', 'real', 'to_bytes']\n"
          ]
        }
      ]
    },
    {
      "cell_type": "markdown",
      "source": [
        "**Q6.** Explain the concept of inheritance in OOP?  \n",
        "**Ans:**Inheritance is a feature or a process in which, new classes are created from the existing classes. The new class created is called “derived class” or “child class” and the existing class is known as the “base class” or “parent class”. The derived class now is said to be inherited from the base class.\n",
        "When we say derived class inherits the base class, it means that the derived class inherits all the properties of the base class, without changing the properties of base class and may add new features to its own. These new features in the derived class will not affect the base class. The derived class is the specialized class for the base class.\n",
        "Sub Class: The class that inherits properties from another class is called Subclass or Derived Class.\n",
        "Super Class: The class whose properties are inherited by a subclass is called Base Class or Superclass.  \n",
        "**Benefits of Inheritance :  **   \n",
        "1.Code Reusability: Inheritance allows us to reuse the code written in the parent class. By defining common functionality in a base class, we can avoid duplicating code across multiple classes. This promotes maintainability and reduces the chances of introducing bugs.\n",
        "\n",
        "2.Modularity: Inheritance facilitates modular programming by promoting the separation of concerns. We can define the core functionality in a base class and create derived classes that specialise or extend that functionality. Each class can focus on specific aspects, making the code easier to understand, test, and maintain.\n",
        "\n",
        "3.Extensibility: Inheritance enables us to extend existing classes with new functionality without modifying their implementation. We can create new classes that inherit from a base class, and add or override members to tailor the behaviour to our specific requirements. This promotes flexibility and adaptability in software design."
      ],
      "metadata": {
        "id": "aMhaGyqzDKmK"
      }
    },
    {
      "cell_type": "markdown",
      "source": [
        "**Q7.**What is polymorphism in OOP?  \n",
        "**Ans:** Polymorphism is a foundational concept in programming that allows entities like functions, methods or operators to behave differently based on the type of data they are handling. Derived from Greek, the term literally means “many forms”.\n",
        "Python’s dynamic typing and duck typing make it inherently polymorphic. Functions, operators and even built-in objects like loops exhibit polymorphic behavior.  \n",
        "Polymorphism in Built-in Functions\n",
        "Python’s built-in functions exhibit polymorphism, adapting to various data types."
      ],
      "metadata": {
        "id": "Jrjig9DzDYBk"
      }
    },
    {
      "cell_type": "code",
      "source": [
        "print(len(\"Hello\"))  # String length\n",
        "print(len([1, 2, 3]))  # List length\n",
        "\n",
        "print(max(1, 3, 2))  # Maximum of integers\n",
        "print(max(\"a\", \"z\", \"m\"))  # Maximum in strings"
      ],
      "metadata": {
        "colab": {
          "base_uri": "https://localhost:8080/"
        },
        "id": "2RYw9-l91G-Q",
        "outputId": "26cfb13b-03ce-45cd-92b6-23a5f02b4724"
      },
      "execution_count": null,
      "outputs": [
        {
          "output_type": "stream",
          "name": "stdout",
          "text": [
            "5\n",
            "3\n",
            "3\n",
            "z\n"
          ]
        }
      ]
    },
    {
      "cell_type": "markdown",
      "source": [
        "**Q8.**How is encapsulation achieved in Python?   \n",
        "**Ans:**In Python, encapsulation refers to the bundling of data (attributes) and methods (functions) that operate on the data into a single unit, typically a class. It also restricts direct access to some components, which helps protect the integrity of the data and ensures proper usage.  \n",
        "Encapsulation is the process of hiding the internal state of an object and requiring all interactions to be performed through an object’s methods. This approach:  \n",
        "Provides better control over data.  \n",
        "Prevents accidental modification of data.  \n",
        "Promotes modular programming.  \n",
        "**Example of Encapsulation**  \n",
        "Encapsulation in Python is like having a bank account system where your account balance (data) is kept private. You can’t directly change your balance by accessing the account database. Instead, the bank provides you with methods (functions) like deposit and withdraw to modify your balance safely.\n",
        "Private Data (Balance): Your balance is stored securely. Direct access from outside is not allowed, ensuring the data is protected from unauthorized changes.  \n",
        "Public Methods (Deposit and Withdraw): These are the only ways to modify your balance. They check if your requests (like withdrawing money) follow the rules (e.g., you have enough balance) before allowing changes.  \n",
        "Encapsulation in Python is implemented using access specifiers to control access to class members:  \n",
        "1.Public Members: By default, attributes and methods are public and can be accessed from outside the class.  \n",
        "2.Protected Members: Use a single underscore (_) prefix to indicate that an attribute or method is intended for internal use within the class and its subclasses.  \n",
        "3.Private Members: Use double underscores (__) prefix to make an attribute or method private. This leads to name mangling, making it more challenging to access from outside the class."
      ],
      "metadata": {
        "id": "OSn2JqVwDmnv"
      }
    },
    {
      "cell_type": "markdown",
      "source": [
        "**Q9.** What is a constructor in Python ?  \n",
        "**Ans:** A constructor in Python is a special method that is automatically called when an instance (object) of a class is created. The primary purpose of a constructor is to initialize the attributes of the object. In Python, the constructor method is named __init__().  \n",
        "Types of Constructors:  \n",
        "Default Constructor -\n",
        "A default constructor is a simple constructor that does not accept any arguments except for self, which refers to the instance being created.\n",
        "\n",
        "Parameterized Constructor-\n",
        "A parameterized constructor accepts arguments from the programmer to initialize the object with custom values.\n",
        "\n",
        "**Advantages of Using Constructors**\n",
        "\n",
        "1.Initialization of Objects **:** Constructors allow you to set default values for attributes or initialize the object with custom data.  \n",
        "2.Encapsulation **:** Constructors ensure that the object's attributes are initialized correctly and in a controlled manner.  \n",
        "3.Readability **:** Constructors improve the readability of the code by making it clear what values are being initialized and how.\n",
        "\n",
        "**Limitations of Constructors**\n",
        "\n",
        "1.No Overloading **:** Python does not support method overloading, so you cannot have multiple constructors with different parameters in a single class.  \n",
        "2.Limited Functionality**:** Constructors in Python are limited compared to other programming languages, as they do not have access modifiers like public, private, or protected.\n"
      ],
      "metadata": {
        "id": "I5XWJQUuD0NO"
      }
    },
    {
      "cell_type": "markdown",
      "source": [
        "**Q10.** What are class and static methods in Python?  \n",
        "**Ans:** Class Method : The @classmethod decorator is a built-in function decorator that is an expression that gets evaluated after your function is defined. The result of that evaluation shadows your function definition. A class method receives the class as an implicit first argument, just like an instance method receives the instance.   \n",
        "1.A class method is a method that is bound to the class and not the object of the class.  \n",
        "2.They have the access to the state of the class as it takes a class parameter that points to the class and not the object instance.  \n",
        "3.It can modify a class state that would apply across all the instances of the class. For example, it can modify a class variable that will be applicable to all the instances."
      ],
      "metadata": {
        "id": "QJ7unn8LEGOT"
      }
    },
    {
      "cell_type": "code",
      "source": [
        "# Syntax Python Class Method:\n",
        "class C(object):\n",
        "    @classmethod\n",
        "    def fun(cls, arg1, arg2,...):\n",
        "       ...\n",
        "\n",
        "# fun: function that needs to be converted into a class method.\n",
        "# returns: a class method for function."
      ],
      "metadata": {
        "id": "O0f0Mmrek87y"
      },
      "execution_count": null,
      "outputs": []
    },
    {
      "cell_type": "code",
      "source": [
        "#Example of class Method:\n",
        "class MyClass:\n",
        "    def __init__(self, value):\n",
        "        self.value = value\n",
        "    def get_value(self):\n",
        "        return self.value\n",
        "obj = MyClass(10)  # Create an instance of MyClass\n",
        "print(obj.get_value()) # Call the get_value method on the instance"
      ],
      "metadata": {
        "colab": {
          "base_uri": "https://localhost:8080/"
        },
        "id": "TwaC-0zwnXGX",
        "outputId": "632ec3dd-2aab-4970-b765-e06fc87681cd"
      },
      "execution_count": null,
      "outputs": [
        {
          "output_type": "stream",
          "name": "stdout",
          "text": [
            "10\n"
          ]
        }
      ]
    },
    {
      "cell_type": "markdown",
      "source": [
        "Static Method : A static method does not receive an implicit first argument. A static method is also a method that is bound to the class and not the object of the class. This method can’t access or modify the class state. It is present in a class because it makes sense for the method to be present in class."
      ],
      "metadata": {
        "id": "whXDXgKzlJIc"
      }
    },
    {
      "cell_type": "code",
      "source": [
        "# Syntax Python Static Method:\n",
        "class C(object):\n",
        "    @staticmethod\n",
        "    def fun(arg1, arg2, ...):\n",
        "        ...\n",
        "# returns: a static method for function fun."
      ],
      "metadata": {
        "id": "ioDozBRvmBmU"
      },
      "execution_count": null,
      "outputs": []
    },
    {
      "cell_type": "code",
      "source": [
        "# Example of static Method:\n",
        "class MyClass:\n",
        "    def __init__(self, value):\n",
        "        self.value = value\n",
        "    @staticmethod\n",
        "    def get_max_value(x, y):\n",
        "        return max(x, y)\n",
        "obj = MyClass(10)   # Create an instance of MyClass\n",
        "print(MyClass.get_max_value(20, 30))\n",
        "print(obj.get_max_value(20, 30))"
      ],
      "metadata": {
        "colab": {
          "base_uri": "https://localhost:8080/"
        },
        "id": "En85m7GIndDh",
        "outputId": "eae0e62a-a436-4227-ba4c-43810bcc15c8"
      },
      "execution_count": null,
      "outputs": [
        {
          "output_type": "stream",
          "name": "stdout",
          "text": [
            "30\n",
            "30\n"
          ]
        }
      ]
    },
    {
      "cell_type": "markdown",
      "source": [
        "**Q11.** What is method overloading in Python?  \n",
        "**Ans:**Method overloading in Python allows you to create multiple methods with the same name but different parameters in a class. However, Python doesn't support method overloading directly like some other programming languages (Java, C++). Instead, you can achieve it by using default arguments or variable-length arguments."
      ],
      "metadata": {
        "id": "3pr1HyEXEUR9"
      }
    },
    {
      "cell_type": "code",
      "source": [
        "class Example:\n",
        "    def display(self, *args):\n",
        "        if len(args) == 1:\n",
        "            print(f\"Single argument: {args[0]}\")\n",
        "        elif len(args) == 2:\n",
        "            print(f\"Two arguments: {args[0]} and {args[1]}\")\n",
        "        else:\n",
        "            print(\"No matching method found\")\n",
        "obj = Example()\n",
        "obj.display(1)          # Single argument: 1\n",
        "obj.display(1, 2)       # Two arguments: 1 and 2\n",
        "obj.display()           # No matching method found\n"
      ],
      "metadata": {
        "colab": {
          "base_uri": "https://localhost:8080/"
        },
        "id": "PatV9APyo32N",
        "outputId": "73b74c2f-6ac8-410d-b344-368bb56b3bc7"
      },
      "execution_count": null,
      "outputs": [
        {
          "output_type": "stream",
          "name": "stdout",
          "text": [
            "Single argument: 1\n",
            "Two arguments: 1 and 2\n",
            "No matching method found\n"
          ]
        }
      ]
    },
    {
      "cell_type": "markdown",
      "source": [
        "In the above example, the display method handles different numbers of arguments by checking the length of args and performing the appropriate action."
      ],
      "metadata": {
        "id": "ucl-q4awpKX9"
      }
    },
    {
      "cell_type": "markdown",
      "source": [
        "**Q12.** What is method overriding in OOP ?  \n",
        "**Ans:**Method overriding is a concept in object-oriented programming that allows a subclass to provide a specific implementation of a method that is already defined in its superclass. This is a fundamental feature in Python that enables polymorphism, where the same method can behave differently based on the object that invokes it.  \n",
        "In Python, if a method in a subclass has the same name, parameters, and return type as a method in its superclass, the subclass's method overrides the one in the superclass.   \n",
        "Here's a simple example to illustrate method overriding:  \n",
        "In the below example, both the Parent and Child classes have a method named show. When we create an instance of Child and call its show method, the method in the Child class is executed, overriding the one in the Parent class."
      ],
      "metadata": {
        "id": "GjFdQqSREiJs"
      }
    },
    {
      "cell_type": "code",
      "source": [
        "class Parent:\n",
        "  def show(self):\n",
        "    print(\"Inside Parent\")\n",
        "class Child(Parent):\n",
        "  def show(self):\n",
        "    print(\"Inside Child\")\n",
        "# Creating objects of Parent and Child\n",
        "obj1 = Parent()\n",
        "obj2 = Child()\n",
        "# Calling the method show\n",
        "obj1.show() # Output: Inside Parent\n",
        "obj2.show() # Output: Inside Child"
      ],
      "metadata": {
        "colab": {
          "base_uri": "https://localhost:8080/"
        },
        "id": "nXQbZNjIr509",
        "outputId": "8a8fee1b-8683-482d-a721-dd832e63b1dc"
      },
      "execution_count": null,
      "outputs": [
        {
          "output_type": "stream",
          "name": "stdout",
          "text": [
            "Inside Parent\n",
            "Inside Child\n"
          ]
        }
      ]
    },
    {
      "cell_type": "markdown",
      "source": [
        "**Q13.** What is a property decorator in Python?  \n",
        "**Ans:** The property decorator in Python is a built-in decorator that allows you to define methods in a class that act as getters, setters, and deleters for attributes. This decorator provides a Pythonic way to manage instance attributes by adding functionality to access and modify them without directly interacting with the attributes themselves:  \n",
        "Advantages of Using property :  \n",
        "1.Concise and Readable Syntax: The syntax for defining properties is straightforward and easy to read.  \n",
        "2.Encapsulation: It allows you to encapsulate the internal representation of an attribute while providing a public interface to access and modify it.  \n",
        "3.Validation: You can add validation logic to ensure that the attribute values meet certain criteria before being set.   \n",
        "4.Backward Compatibility: You can change the internal implementation of a class without affecting the code that uses it.  \n",
        "**Important Points :**  \n",
        "Getter: The getter method is defined using the @property decorator. It allows you to access the value of the attribute as if it were a public attribute.  \n",
        "Setter: The setter method is defined using the @property_name.setter decorator. It allows you to set the value of the attribute while adding validation logic.  \n",
        "Deleter: The deleter method is defined using the @property_name.deleter decorator. It allows you to delete the attribute .  \n",
        "By using the property decorator, you can create more maintainable and readable code while ensuring that the attribute values are valid and properly managed."
      ],
      "metadata": {
        "id": "_80SC6KPfuF9"
      }
    },
    {
      "cell_type": "markdown",
      "source": [
        "**Q14.** Why is polymorphism important in OOP?  \n",
        "**Ans:**Advantages of Polymorphism :\n",
        "Polymorphism is a fundamental concept in object-oriented programming (OOP) that allows objects to be treated as instances of their parent class rather than their actual class. This capability enables a single interface to represent different underlying forms (data types). Polymorphism can be classified into two types: Compile-time Polymorphism (achieved through method overloading) and Run-time Polymorphism (achieved through method overriding and virtual functions)  \n",
        "Key Advantages of Polymorphism:  \n",
        "1.Code Reusability : One of the primary advantages of polymorphism is code reusability. It allows developers to reuse existing code and classes, which saves time and effort. Once a class is written and tested, it can be reused in different parts of the program or even in different programs.This reduces the need to write new code from scratch, thereby enhancing productivity.  \n",
        "2.Flexibility and Maintainability : Polymorphism provides flexibility to the code by allowing a single method to perform different functions based on the input. This makes the code more adaptable to changes and easier to maintain For instance, a single method can handle different data types, making it easier to implement and debug .  \n",
        "3.Reduced Coupling : Polymorphism helps in reducing the coupling between different functionalities. By using a common interface, different classes can interact with each other without being tightly coupled .This makes the code more modular and easier to manage.  \n",
        "4.Dynamic Binding : Polymorphism supports dynamic binding, which means that the method to be invoked is determined at runtime based on the actual object. This enables the correct method to be called for an object, enhancing the flexibility and extensibility of the code .Dynamic binding allows for more generic and reusable code, as the same method can be used for different types of objects.      \n",
        "5.Simplified Code :Polymorphism simplifies the code by allowing the use of a single method for multiple executions. This reduces the complexity of the code and makes it more readable ."
      ],
      "metadata": {
        "id": "KSPk-reCf4gI"
      }
    },
    {
      "cell_type": "markdown",
      "source": [
        "**Q15.**What is an abstract class in Python?  \n",
        "**Ans:**An abstract class in Python is a class that cannot be instantiated on its own and is designed to be subclassed. It often includes one or more abstract methods, which are methods declared in the abstract class but contain no implementation. Abstract classes are used to define a common interface for a group of subclasses.    \n",
        "Key Points:\n",
        "Abstract Class: Cannot be instantiated directly.  \n",
        "Abstract Methods: Methods declared without implementation.  \n",
        "Purpose: To provide a blueprint for other classes.\n",
        "\n",
        "Python doesn’t directly support abstract classes. But it does offer a module that allows you to define abstract classes.\n",
        "To define an abstract class, you use the abc (abstract base class) module.\n",
        "The abc module provides you with the infrastructure for defining abstract base classes.  \n",
        "For example:"
      ],
      "metadata": {
        "id": "5_ZgB8m0gEsQ"
      }
    },
    {
      "cell_type": "code",
      "source": [
        "# Example\n",
        "from abc import ABC\n",
        "class AbstractClassName(ABC):\n",
        "    pass\n",
        "\n",
        "#To define an abstract method, you use the @abstractmethod decorator:\n",
        "\n",
        "from abc import ABC, abstractmethod\n",
        "class AbstractClassName(ABC):\n",
        "    @abstractmethod\n",
        "    def abstract_method_name(self):\n",
        "        pass\n"
      ],
      "metadata": {
        "id": "_iuiVlTC5Axc"
      },
      "execution_count": null,
      "outputs": []
    },
    {
      "cell_type": "markdown",
      "source": [
        "**Q16.**What are the advantages of OOP?  \n",
        "**Ans:** Advantages of OOP in Python :  \n",
        "The following are a few advantages of object-oriented programming:  \n",
        "1 . Modularity : Modularity in Object-Oriented Programming (OOP) is achieved through encapsulation, where data and methods are bundled within a class. This enhances code organization and makes it easier to debug and maintain. Encapsulation ensures each class is responsible for a specific functionality, promoting separation of concerns.  \n",
        "\n",
        "2.Reusability: OOP promotes code reuse through inheritance and polymorphism. Inheritance allows new classes to inherit attributes and methods, reducing redundancy. Polymorphism enables different objects to be treated interchangeably, enhancing code adaptability and versatility.\n",
        "\n",
        "3.Maintainability : OOP supports maintainability by isolating changes within each class. The modular and encapsulated nature of OOP minimizes the impact of modifications on other parts of the codebase, making it easier to locate and fix bugs or update features without disrupting the entire system.\n",
        "\n",
        "4.Flexibility and Extensibility: OOP provides flexibility through polymorphism, allowing objects to take on multiple forms. Dynamic typing in Python enhances adaptability by allowing variables to change types at runtime. Extensibility is facilitated by features like inheritance, enabling the codebase to easily accommodate new features or modifications.\n",
        "\n",
        "5.Enhanced Code Organization : OOP improves code organization through class hierarchy and abstraction. Inheritance establishes structured relationships, creating a clear hierarchy that reflects logical connections between components. Abstraction simplifies the development and maintenance of large-scale applications by modeling complex systems with objects and classes.\n",
        "\n",
        "6.Scalability : Scalability in OOP is supported by abstraction and encapsulation. Abstraction allows for the creation of models representing complex systems, and encapsulation ensures related functionality is grouped within classes. This modular and hierarchical structure facilitates the scalability of projects, enabling the addition or modification of features without impacting the entire codebase."
      ],
      "metadata": {
        "id": "ReIbDMvAgRti"
      }
    },
    {
      "cell_type": "markdown",
      "source": [
        "**Q17.**What is the difference between a class variable and an instance variable?  \n",
        "**Ans:** Instance Variable** :** It is basically a class variable without a static modifier and is usually shared by all class instances. Across different objects, these variables can have different values. They are tied to a particular object instance of the class, therefore, the contents of an instance variable are totally independent of one object instance to others.It can be accessed directly by calling variable names inside the class. Example-\n",
        "class Taxes  \n",
        "  \n",
        "Class Variable**:** It is basically a static variable that can be declared anywhere at class level with static. Across different objects, these variables can have only one value. These variables are not tied to any particular object of the class, therefore, can share across all objects of the class.It can be accessed by calling with the class name.  \n",
        "Example- class Taxes"
      ],
      "metadata": {
        "id": "8J4xXTOGgoTg"
      }
    },
    {
      "cell_type": "code",
      "source": [
        "{\n",
        "     int count;\n",
        "    /*...*/\n",
        "}"
      ],
      "metadata": {
        "id": "wGQVZDQp6G4e"
      },
      "execution_count": null,
      "outputs": []
    },
    {
      "cell_type": "markdown",
      "source": [
        "Class Variable: It is basically a static variable that can be declared anywhere at class level with static. Across different objects, these variables can have only one value. These variables are not tied to any particular object of the class, therefore, can share across all objects of the class.It can be accessed by calling with the class name. Example- class Taxes"
      ],
      "metadata": {
        "id": "lAB5dfLv6QFw"
      }
    },
    {
      "cell_type": "code",
      "source": [
        " {\n",
        "    static int count;\n",
        "    /*...*/\n",
        "  }"
      ],
      "metadata": {
        "id": "77HJVhkx6fVv"
      },
      "execution_count": null,
      "outputs": []
    },
    {
      "cell_type": "markdown",
      "source": [
        "**Q18.**What is multiple inheritance in Python?  \n",
        "**Ans:**Inheritance is the mechanism to achieve the re-usability of code as one class(child class) can derive the properties of another class(parent class). It also provides transitivity ie. if class C inherits from P then all the sub-classes of C would also inherit from P.  \n",
        "Multiple Inheritance :\n",
        "When a class is derived from more than one base class it is called multiple Inheritance. The derived class inherits all the features of the base case.  \n",
        "\n",
        "![Inheritance.png](data:image/png;base64,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)"
      ],
      "metadata": {
        "id": "5F6ZiGSbg0Xd"
      }
    },
    {
      "cell_type": "markdown",
      "source": [
        "How to Inherit Multiple classes:\n",
        "In Python, inheriting a hundred classes is as easy as inheriting a single class. To inherit multiple classes, we use the following syntax."
      ],
      "metadata": {
        "id": "Mi0mcHD78V2Z"
      }
    },
    {
      "cell_type": "code",
      "source": [
        " class Subclass( Superclass1, Superclass2,..., SuperclassN):\n",
        "   # Class body..."
      ],
      "metadata": {
        "id": "tiiIjxED8bBO"
      },
      "execution_count": null,
      "outputs": []
    },
    {
      "cell_type": "code",
      "source": [
        "# Using the above syntax, let’s create a class Child that inherits two classes Parent1 and Parent2.\n",
        "class Parent1:\n",
        "   pass\n",
        "class Parent2:\n",
        "   pass\n",
        "class Child(Parent1, Parent2):\n",
        "   pass\n",
        "if issubclass(Child, (Parent1, Parent2)):\n",
        "   print(\"Child is a subclass of Parent1 and Parent2\")\n",
        "# In the above code, class Child inherits multiple classes Parent1 and Parent2"
      ],
      "metadata": {
        "colab": {
          "base_uri": "https://localhost:8080/"
        },
        "id": "218xaJex8jwO",
        "outputId": "e4f0be9e-7308-49f8-c47d-a10bc4bdbac2"
      },
      "execution_count": 1,
      "outputs": [
        {
          "output_type": "stream",
          "name": "stdout",
          "text": [
            "Child is a subclass of Parent1 and Parent2\n"
          ]
        }
      ]
    },
    {
      "cell_type": "markdown",
      "source": [
        "**Q19.**Explain the purpose of ‘’__str__’ and ‘__repr__’ ‘ methods in Python?  \n",
        "**Ans:**In Python, __str__ and __repr__ are special methods that provide string representations of objects. They serve different purposes and are used in different contexts.  \n",
        "Purpose and Usage :  \n",
        "__repr__: This method is intended to provide a detailed and unambiguous string representation of an object, primarily for developers. It is used for debugging and development purposes. The goal of __repr__ is to be explicit about the object's information and, ideally, to return a string that could be used to recreate the object.   \n",
        "For example: ."
      ],
      "metadata": {
        "id": "BbbxPt8phGVo"
      }
    },
    {
      "cell_type": "code",
      "source": [
        "class Person:\n",
        "  def __init__(self, name, age):\n",
        "    self.name = name\n",
        "    self.age = age\n",
        "  def __repr__(self):\n",
        "    return f'Person(name={self.name!r}, age={self.age!r})'\n",
        "p = Person('Avi ', 6)\n",
        "print(repr(p))\n",
        "p = Person('Avi', 6)\n",
        "print(repr(p))\n"
      ],
      "metadata": {
        "colab": {
          "base_uri": "https://localhost:8080/"
        },
        "id": "peRO1hqb_nQ1",
        "outputId": "1aa109d6-c941-4a84-d55b-3b6ed650b65d"
      },
      "execution_count": 7,
      "outputs": [
        {
          "output_type": "stream",
          "name": "stdout",
          "text": [
            "Person(name='Avi ', age=6)\n",
            "Person(name='Avi', age=6)\n"
          ]
        }
      ]
    },
    {
      "cell_type": "markdown",
      "source": [
        "**str **: This method is intended to provide a readable and user-friendly string representation of an object. It is used when you want to display information to the end user. The str method is called by the str() built-in function and by the print function.    \n",
        "For example:"
      ],
      "metadata": {
        "id": "M36-ycQ1Aftv"
      }
    },
    {
      "cell_type": "code",
      "source": [
        "class Person:\n",
        "   def __init__(self, name, age):\n",
        "    self.name = name; self.age = age\n",
        "   def __str__(self):\n",
        "      return f'{self.name} is {self.age} years old.'\n",
        "p = Person('Avi', 6)\n",
        "print(str(p))\n",
        "p = Person('Avi', 6)\n",
        "print(str(p))"
      ],
      "metadata": {
        "colab": {
          "base_uri": "https://localhost:8080/"
        },
        "id": "b5OrjH_UAiDw",
        "outputId": "a973c890-fa54-4a6e-f351-fc2ffbea472b"
      },
      "execution_count": 10,
      "outputs": [
        {
          "output_type": "stream",
          "name": "stdout",
          "text": [
            "Avi is 6 years old.\n",
            "Avi is 6 years old.\n"
          ]
        }
      ]
    },
    {
      "cell_type": "markdown",
      "source": [
        "Key Differences:  \n",
        "**Audience**: repr is aimed at developers, while str is aimed at end users.  \n",
        "**Detail**: repr provides a detailed and unambiguous representation, whereas str provides a readable and user-friendly representation.  \n",
        "**Fallback**: If str is not defined, Python will use repr as a fallback when print() or str() is called on an object.\n"
      ],
      "metadata": {
        "id": "WULpJzbgBMZU"
      }
    },
    {
      "cell_type": "markdown",
      "source": [
        "**Q20.**What is the significance of the ‘super()’ function in Python ?  \n",
        "**Ans:**The super() function in Python is a built-in function that returns a proxy object, which allows you to refer to the parent class or superclass. This function is particularly useful in object-oriented programming, as it enables you to call methods defined in the superclass from the subclass, thereby extending and customizing the functionality inherited from the parent class.  \n",
        "Syntax and Usage :  \n",
        "The syntax for super() is straightforward:  \n",
        "super()  \n",
        "This function does not take any parameters and returns a proxy object representing the parent class.  \n",
        "Example"
      ],
      "metadata": {
        "id": "KWzQlOKShVKL"
      }
    },
    {
      "cell_type": "code",
      "source": [
        "class Parent: # Define the Parent class\n",
        "  def __init__(self, txt):\n",
        "    self.message = txt\n",
        "  def printmessage(self):\n",
        "    print(self.message)\n",
        "\n",
        "class Child(Parent):\n",
        "  def __init__(self, txt):\n",
        "    super().__init__(txt)\n",
        "\n",
        "x = Child(\"Hello, and welcome!\")\n",
        "x.printmessage()"
      ],
      "metadata": {
        "colab": {
          "base_uri": "https://localhost:8080/"
        },
        "id": "5A68P9xeDB5v",
        "outputId": "c3b4c435-242a-4739-8b48-dff2452e148e"
      },
      "execution_count": 16,
      "outputs": [
        {
          "output_type": "stream",
          "name": "stdout",
          "text": [
            "Hello, and welcome!\n"
          ]
        }
      ]
    },
    {
      "cell_type": "markdown",
      "source": [
        "In this above example, the Child class inherits from the Parent class and uses super().__init__(txt) to call the __init__ method of the Parent class.  \n",
        "\n",
        "Benefits of Using super()  \n",
        "1.Avoid Explicit Base Class Naming: Using super() helps avoid explicitly referring to the base class by name, making the code more maintainable and flexible.  \n",
        "2.Multiple Inheritance: It is particularly useful in multiple inheritance scenarios, as it ensures that the correct methods are called according to the Method Resolution Order (MRO).  \n",
        "3.Code Reusability: It promotes code reusability by allowing you to extend and modify the parent class's behavior without rewriting the entire function."
      ],
      "metadata": {
        "id": "x5YVA8jgDQv5"
      }
    },
    {
      "cell_type": "markdown",
      "source": [
        "**Q21.**What is the significance of the __del__ method in Python ?  \n",
        "**Ans:** The __del__ method is a special method in Python that is called when an object is about to be destroyed. It allows you to define specific cleanup actions that should be taken when an object is garbage collected. This method can be particularly useful for releasing external resources such as file handles, network connections, or database connections that the object may hold.\n",
        "\n",
        "Overview the Python __del__ Method Purpose:   \n",
        "The __del__ method is used to define the actions that should be performed before an object is destroyed. This can include releasing external resources such as files or database connections associated with the object.\n",
        "\n",
        "Usage: When Python's garbage collector identifies that an object is no longer referenced by any part of the program, it schedules the __del__ method of that object to be called before reclaiming its memory.  \n",
        "Syntax:   \n",
        "The __del__ method is defined using the following syntax.  \n",
        "class ClassName:\n",
        "        def __del__(self):\n",
        "       # cleanup code here\n",
        "         pass\n",
        "\n",
        "The del statement is versatile and can be used in various contexts to manage memory and data structures effectively.         "
      ],
      "metadata": {
        "id": "NIMefp0ChqJp"
      }
    },
    {
      "cell_type": "code",
      "source": [
        "#In this example, the __del__ method is used to print a message when an object is destroyed.\n",
        "\n",
        "class SimpleObject:\n",
        "    def __init__(self, name):\n",
        "        self.name = name\n",
        "\n",
        "    def __del__(self):\n",
        "        print(f\"SimpleObject '{self.name}' is being destroyed.\")\n",
        "\n",
        "obj = SimpleObject('A')\n",
        "del obj"
      ],
      "metadata": {
        "colab": {
          "base_uri": "https://localhost:8080/"
        },
        "id": "1K97GuXoHCBP",
        "outputId": "917c76e5-9941-4a9c-ccf5-e0e08dd52882"
      },
      "execution_count": 17,
      "outputs": [
        {
          "output_type": "stream",
          "name": "stdout",
          "text": [
            "SimpleObject 'A' is being destroyed.\n"
          ]
        }
      ]
    },
    {
      "cell_type": "markdown",
      "source": [
        "**Q22.**What is the difference between @staticmethod and @classmethod in Python?  \n",
        "**Ans:**The main difference between a staticmethod vs a classmethod in Python is in how they handle the arguments that are passed to them.  \n",
        "A staticmethod takes no special first argument. It behaves like a regular function, but is defined inside a class for organizational purposes. While, a classmethod takes the class as its first argument, which allows it to modify class-level attributes.\n",
        "\n",
        "Differences between staticmethod and classmethod in Python:  \n",
        "\n",
        "1.Decorator: classmethod is a decorator method, which means it can be used to modify the behavior of other methods in the class. staticmethod is not a decorator.  \n",
        "2.Access to class data: classmethod has access to the class data through its cls parameter, while staticmethod does not have any knowledge of the class data. This means that classmethod can modify class-level attributes or perform operations on the class itself, while staticmethod cannot.  \n",
        "3.Access to instance data: classmethod can access instance data if it is passed as an argument, while staticmethod cannot. This means that classmethod can modify or access the data of a specific instance, while staticmethod cannot.  \n",
        "4.Method call: both staticmethod and classmethod can be called on the class itself without the need for an instance, but the way they are called is slightly different. staticmethod is called like a regular function, while classmethod is called using the class name and the method name, like ClassName.method_name()"
      ],
      "metadata": {
        "id": "ZLlFi2wwh6-r"
      }
    },
    {
      "cell_type": "markdown",
      "source": [
        "**Q23.** How does polymorphism work in Python with inheritance?  \n",
        "**Ans:**Inheritance in Python refers to the process by which one class can acquire the attributes and methods of another class. This is done by creating an inheritance relationship between the two classes. The class that is doing the inheriting is referred to as the child class, and the class that is being inherited from is referred to as the parent class. Polymorphism in Python is the ability of one object to take on multiple forms. This is done by creating multiple classes inherited from a single base class. Each class can then be used interchangeably, as they all share the same interface. This allows for a great degree of flexibility when it comes to programming. To demonstrate how to work with inheritance and polymorphism in Python, consider the following inheritance in python example of a class hierarchy for a game character."
      ],
      "metadata": {
        "id": "kgqQMp9ciIPk"
      }
    },
    {
      "cell_type": "markdown",
      "source": [
        "**Q24.**What is method chaining in Python OOP?  \n",
        "**Ans:**Method chaining is a powerful technique in Python programming that allows us to call multiple methods on an object in a single, continuous line of code. This approach makes the code cleaner, more readable, and often easier to maintain. It is frequently used in data processing, object-oriented programming, and frameworks such as Pandas, Django ORM, and Flask."
      ],
      "metadata": {
        "id": "ErCPg4o8h4PA"
      }
    },
    {
      "cell_type": "code",
      "source": [
        "text = \" hello, as! \"\n",
        "result = text.strip().capitalize().replace(\"as\", \"Avyukt singhal\")\n",
        "print(result)"
      ],
      "metadata": {
        "colab": {
          "base_uri": "https://localhost:8080/"
        },
        "id": "Tn5VERqEPKOc",
        "outputId": "6ccef6bd-5b9c-49df-dd0c-097430920f5c"
      },
      "execution_count": 22,
      "outputs": [
        {
          "output_type": "stream",
          "name": "stdout",
          "text": [
            "Hello, Avyukt singhal!\n"
          ]
        }
      ]
    },
    {
      "cell_type": "markdown",
      "source": [
        "Benefits and Drawbacks of Method Chaining:  \n",
        "Benefits:  \n",
        "1.Conciseness: Code becomes shorter and easier to write.\n",
        "Readability: Chained methods create a fluent, human-readable structure. When used carefully, method chains can resemble natural language.  \n",
        "2.Reduced Temporary Variables: There's no need to create intermediary variables, as the methods directly operate on the object.  \n",
        "3.Expressive Code: Complex operations are expressed in a single line, making the intention of the code clear.  \n",
        "\n",
        "Drawbacks:  \n",
        "1.Debugging Difficulty: If one method in a chain fails, it can be harder to isolate the issue.  \n",
        "2.Readability Issues: Overly long method chains can become hard to follow, reducing clarity.  \n",
        "3.Side Effects: Methods that modify objects in place can lead to unintended side effects when used in long chains."
      ],
      "metadata": {
        "id": "vlx1SLyzPss8"
      }
    },
    {
      "cell_type": "markdown",
      "source": [
        "**Q25.**What is the purpose of the __call__ method in Python?  \n",
        "**Ans:** The __call__ method in Python allows an instance of a class to be called as if it were a function. This means you can define a class with a __call__ method, and then create objects of that class which can be invoked like regular functions. It can be particularly useful for creating objects that need to maintain some internal state across multiple calls.\n",
        "Here's a basic example to illustrate its purpose:\n"
      ],
      "metadata": {
        "id": "lExuWIg-ioG0"
      }
    },
    {
      "cell_type": "code",
      "source": [
        "class Multiplier:\n",
        "    def __init__(self, factor):\n",
        "        self.factor = factor\n",
        "    def __call__(self, x):\n",
        "        return x * self.factor\n",
        "double = Multiplier(2)\n",
        "triple = Multiplier(3)\n",
        "print(double(5))\n",
        "print(triple(5))"
      ],
      "metadata": {
        "colab": {
          "base_uri": "https://localhost:8080/"
        },
        "id": "fI4pG7KDRTd6",
        "outputId": "64206720-75a6-4a4d-b2ea-b34c68b45178"
      },
      "execution_count": 23,
      "outputs": [
        {
          "output_type": "stream",
          "name": "stdout",
          "text": [
            "10\n",
            "15\n"
          ]
        }
      ]
    },
    {
      "cell_type": "markdown",
      "source": [
        "In this example:  \n",
        "1.The Multiplier class has an __init__ method to initialize the factor attribute.  \n",
        "2.The __call__ method is defined to perform a multiplication operation using the factor attribute.  \n",
        "3.Instances of the Multiplier class can be called like functions, passing an argument to be multiplied by the instance's factor."
      ],
      "metadata": {
        "id": "AL0pVpEUSGgJ"
      }
    },
    {
      "cell_type": "markdown",
      "source": [
        "# **Practical Questions :**"
      ],
      "metadata": {
        "id": "ENsvGf31i3ZT"
      }
    },
    {
      "cell_type": "markdown",
      "source": [
        "**Q1.** Create a parent class Animal with a method speak() that prints a generic message. Create a child class Dog\n",
        "that overrides the speak() method to print \"Bark!\"."
      ],
      "metadata": {
        "id": "NkTEmKVBjA3V"
      }
    },
    {
      "cell_type": "code",
      "source": [
        "class Animal:\n",
        "    def speak(self):\n",
        "        print(\"This animal speaks in its own different way.\")\n",
        "\n",
        "class Dog(Animal):\n",
        "    def speak(self):\n",
        "        print(\"Bark!\")\n",
        "animal = Animal()\n",
        "animal.speak()\n",
        "dog = Dog()\n",
        "dog.speak()\n"
      ],
      "metadata": {
        "colab": {
          "base_uri": "https://localhost:8080/"
        },
        "id": "LmQVrju_0_dw",
        "outputId": "f05b28e7-d6ba-4b6c-94e0-4611a42c4d61"
      },
      "execution_count": null,
      "outputs": [
        {
          "output_type": "stream",
          "name": "stdout",
          "text": [
            "This animal speaks in its own different way.\n",
            "Bark!\n"
          ]
        }
      ]
    },
    {
      "cell_type": "markdown",
      "source": [
        "**Q2.**Write a program to create an abstract class Shape with a method area(). Derive classes Circle and Rectangle\n",
        "from it and implement the area() method in both."
      ],
      "metadata": {
        "id": "Na85-R6IjMeh"
      }
    },
    {
      "cell_type": "code",
      "source": [
        "from abc import ABC, abstractmethod\n",
        "class Shape(ABC):\n",
        "    @abstractmethod\n",
        "    def area(self):\n",
        "        pass\n",
        "class Circle(Shape):\n",
        "    def __init__(self, radius):\n",
        "        self.radius = radius\n",
        "    def area(self):\n",
        "        return 3.14159 * self.radius * self.radius\n",
        "class Rectangle(Shape):\n",
        "    def __init__(self, length, width):\n",
        "        self.length = length\n",
        "        self.width = width\n",
        "    def area(self):\n",
        "        return self.length * self.width\n",
        "\n",
        "circle = Circle(5)\n",
        "print(f\"Circle area: {circle.area()}\")\n",
        "\n",
        "rectangle = Rectangle(4, 6)\n",
        "print(f\"Rectangle area: {rectangle.area()}\")\n"
      ],
      "metadata": {
        "colab": {
          "base_uri": "https://localhost:8080/"
        },
        "id": "kG7Rxofd2GhZ",
        "outputId": "02775f43-fc98-4096-aef0-55e1378211ff"
      },
      "execution_count": null,
      "outputs": [
        {
          "output_type": "stream",
          "name": "stdout",
          "text": [
            "Circle area: 78.53975\n",
            "Rectangle area: 24\n"
          ]
        }
      ]
    },
    {
      "cell_type": "markdown",
      "source": [
        "**Q3.**. Implement a multi-level inheritance scenario where a class Vehicle has an attribute type. Derive a class Car\n",
        "and further derive a class ElectricCar that adds a battery attribute."
      ],
      "metadata": {
        "id": "LJ0DrRIqjYTN"
      }
    },
    {
      "cell_type": "code",
      "source": [
        "class Vehicle:\n",
        "    def __init__(self, vehicle_type):\n",
        "        self.type = vehicle_type\n",
        "class Car(Vehicle):\n",
        "    def __init__(self, vehicle_type, brand):\n",
        "        super().__init__(vehicle_type)\n",
        "        self.brand = brand\n",
        "class ElectricCar(Car):\n",
        "    def __init__(self, vehicle_type, brand, battery_capacity):\n",
        "        super().__init__(vehicle_type, brand)\n",
        "        self.battery = battery_capacity\n",
        "    def display_info(self):\n",
        "        print(f\"Electric car Type: {self.type}, Brand: {self.brand}, Battery Capacity: {self.battery} kWh\")\n",
        "# Example usage:\n",
        "vehicle = Vehicle(\"Generic\")\n",
        "print(f\"Vehicle type: {vehicle.type}\")\n",
        "car = Car(\"Sedan\", \"Toyota\")\n",
        "print(f\"Car type: {car.type}, Brand: {car.brand}\")\n",
        "electric_car = ElectricCar(\"Sedan\", \"Tesla\", 75)\n",
        "electric_car.display_info()\n"
      ],
      "metadata": {
        "colab": {
          "base_uri": "https://localhost:8080/"
        },
        "id": "b_Lb5VIs3Op6",
        "outputId": "396ea80d-b14b-4b15-9399-2b0d5becc799"
      },
      "execution_count": null,
      "outputs": [
        {
          "output_type": "stream",
          "name": "stdout",
          "text": [
            "Vehicle type: Generic\n",
            "Car type: Sedan, Brand: Toyota\n",
            "Electric car Type: Sedan, Brand: Tesla, Battery Capacity: 75 kWh\n"
          ]
        }
      ]
    },
    {
      "cell_type": "markdown",
      "source": [
        "**Q4.**Implement a multi-level inheritance scenario where a class Vehicle has an attribute type. Derive a class Car\n",
        "and further derive a class ElectricCar that adds a battery attribute."
      ],
      "metadata": {
        "id": "tCnNYoSXjec1"
      }
    },
    {
      "cell_type": "code",
      "source": [
        "class Vehicle:\n",
        "    def __init__(self, vehicle_type):\n",
        "        self.type = vehicle_type\n",
        "class Car(Vehicle):\n",
        "    def __init__(self, vehicle_type, brand):\n",
        "        super().__init__(vehicle_type)\n",
        "        self.brand = brand\n",
        "class ElectricCar(Car):\n",
        "    def __init__(self, vehicle_type, brand, battery_capacity):\n",
        "        super().__init__(vehicle_type, brand)\n",
        "        self.battery = battery_capacity\n",
        "    def display_info(self):\n",
        "        print(f\"Electric car Type: {self.type}, Brand: {self.brand}, Battery Capacity: {self.battery} kWh\")\n",
        "# Example usage:\n",
        "vehicle = Vehicle(\"Generic\")\n",
        "print(f\"Vehicle type: {vehicle.type}\")\n",
        "car = Car(\"Sedan\", \"Toyota\")\n",
        "print(f\"Car type: {car.type}, Brand: {car.brand}\")\n",
        "electric_car = ElectricCar(\"Sedan\", \"Tesla\", 75)\n",
        "electric_car.display_info()"
      ],
      "metadata": {
        "colab": {
          "base_uri": "https://localhost:8080/"
        },
        "id": "pzO7U07c5Ckw",
        "outputId": "00489e6d-93be-40fa-832f-28fed3914811"
      },
      "execution_count": null,
      "outputs": [
        {
          "output_type": "stream",
          "name": "stdout",
          "text": [
            "Vehicle type: Generic\n",
            "Car type: Sedan, Brand: Toyota\n",
            "Electric car Type: Sedan, Brand: Tesla, Battery Capacity: 75 kWh\n"
          ]
        }
      ]
    },
    {
      "cell_type": "markdown",
      "source": [
        "**Q5.**Write a program to demonstrate encapsulation by creating a class BankAccount with private attributes\n",
        "balance and methods to deposit, withdraw, and check balance ."
      ],
      "metadata": {
        "id": "87gOGM4Pjk3e"
      }
    },
    {
      "cell_type": "code",
      "source": [
        "class BankAccount:\n",
        "    def __init__(self, initial_balance=0):\n",
        "        self.__balance = initial_balance\n",
        "    def deposit(self, amount):\n",
        "        if amount > 0:\n",
        "            self.__balance += amount\n",
        "            print(f\"Deposited: {amount}\")\n",
        "        else:\n",
        "            print(\"Deposit amount must be positive.\")\n",
        "    def withdraw(self, amount):\n",
        "        if 0 < amount <= self.__balance:\n",
        "            self.__balance -= amount\n",
        "            print(f\"Withdrew: {amount}\")\n",
        "        else:\n",
        "            print(\"Invalid withdrawal amount or insufficient balance.\")\n",
        "    def check_balance(self):\n",
        "        return self.__balance\n",
        "account = BankAccount(100)\n",
        "print(f\"Initial Balance: {account.check_balance()}\")\n",
        "account.deposit(50)\n",
        "print(f\"Balance after deposit: {account.check_balance()}\")\n",
        "account.withdraw(30)\n",
        "print(f\"Balance after withdrawal: {account.check_balance()}\")\n",
        "account.withdraw(200)"
      ],
      "metadata": {
        "colab": {
          "base_uri": "https://localhost:8080/"
        },
        "id": "RGwGZK-45ZfW",
        "outputId": "5079bbfd-f0f6-452f-a4fc-f2d62f48f891"
      },
      "execution_count": null,
      "outputs": [
        {
          "output_type": "stream",
          "name": "stdout",
          "text": [
            "Initial Balance: 100\n",
            "Deposited: 50\n",
            "Balance after deposit: 150\n",
            "Withdrew: 30\n",
            "Balance after withdrawal: 120\n",
            "Invalid withdrawal amount or insufficient balance.\n"
          ]
        }
      ]
    },
    {
      "cell_type": "markdown",
      "source": [
        "**Q6.**Demonstrate runtime polymorphism using a method play() in a base class Instrument. Derive classes Guitar\n",
        "and Piano that implement their own version of play()."
      ],
      "metadata": {
        "id": "HEZlCQu8jxAn"
      }
    },
    {
      "cell_type": "code",
      "source": [
        "class Instrument:\n",
        "    def play(self):\n",
        "        pass\n",
        "class Guitar(Instrument):\n",
        "    def play(self):\n",
        "        print(\"Playing the guitar: Strum, strum, strum!\")\n",
        "class Piano(Instrument):\n",
        "    def play(self):\n",
        "        print(\"Playing the piano: ting , ting , ting!\")\n",
        "\n",
        "def play_instrument(instrument):\n",
        "    instrument.play()\n",
        "guitar = Guitar()\n",
        "piano = Piano()\n",
        "play_instrument(guitar)  # Output: Playing the guitar: Strum, strum, strum!\n",
        "play_instrument(piano)   # Output: Playing the piano: Plink, plink, plink!\n"
      ],
      "metadata": {
        "colab": {
          "base_uri": "https://localhost:8080/"
        },
        "id": "XQ0SUVsh6iCW",
        "outputId": "78635ee9-6c5e-4929-a1ab-003842746fc6"
      },
      "execution_count": null,
      "outputs": [
        {
          "output_type": "stream",
          "name": "stdout",
          "text": [
            "Playing the guitar: Strum, strum, strum!\n",
            "Playing the piano: ting , ting , ting!\n"
          ]
        }
      ]
    },
    {
      "cell_type": "markdown",
      "source": [
        "**Q7.**Create a class MathOperations with a class method add_numbers() to add two numbers and a static\n",
        "method subtract_numbers() to subtract two numbers ."
      ],
      "metadata": {
        "id": "aflOGHXLj447"
      }
    },
    {
      "cell_type": "code",
      "source": [
        "class MathOperations:\n",
        "    @classmethod\n",
        "    def add_numbers(cls, num1, num2):\n",
        "        return num1 + num2\n",
        "\n",
        "    @staticmethod\n",
        "    def subtract_numbers(num1, num2):\n",
        "        return num1 - num2\n",
        "\n",
        "result_add = MathOperations.add_numbers(10, 5)\n",
        "print(f\"Addition Result: {result_add}\")\n",
        "\n",
        "result_subtract = MathOperations.subtract_numbers(10, 5)\n",
        "print(f\"Subtraction Result: {result_subtract}\")\n"
      ],
      "metadata": {
        "colab": {
          "base_uri": "https://localhost:8080/"
        },
        "id": "5mBwZsEn8JQb",
        "outputId": "4d7a0774-08fe-4130-b176-50a737d601c6"
      },
      "execution_count": null,
      "outputs": [
        {
          "output_type": "stream",
          "name": "stdout",
          "text": [
            "Addition Result: 15\n",
            "Subtraction Result: 5\n"
          ]
        }
      ]
    },
    {
      "cell_type": "markdown",
      "source": [
        "**Q8.**Implement a class Person with a class method to count the total number of persons created."
      ],
      "metadata": {
        "id": "DQZIREE9kBP7"
      }
    },
    {
      "cell_type": "code",
      "source": [
        "class Person:\n",
        "    count = 0\n",
        "    def __init__(self, name):\n",
        "        self.name = name\n",
        "        Person.count += 1\n",
        "    @classmethod\n",
        "    def total_persons(cls):\n",
        "        return cls.count\n",
        "person1 = Person(\"Alice\")\n",
        "person2 = Person(\"Bob\")\n",
        "\n",
        "print(f\"Total persons created: {Person.total_persons()}\")\n"
      ],
      "metadata": {
        "colab": {
          "base_uri": "https://localhost:8080/"
        },
        "id": "zaGVIun78sGs",
        "outputId": "74830de4-9ea2-4ed6-a731-31da97f67c95"
      },
      "execution_count": null,
      "outputs": [
        {
          "output_type": "stream",
          "name": "stdout",
          "text": [
            "Total persons created: 2\n"
          ]
        }
      ]
    },
    {
      "cell_type": "markdown",
      "source": [
        "**Q9.**Write a class Fraction with attributes numerator and denominator. Override the str method to display the\n",
        "fraction as \"numerator/denominator\"."
      ],
      "metadata": {
        "id": "6Qp_qKavkHIB"
      }
    },
    {
      "cell_type": "code",
      "source": [
        "class Fraction:\n",
        "    def __init__(self, numerator, denominator):\n",
        "        self.numerator = numerator\n",
        "        self.denominator = denominator\n",
        "\n",
        "    def __str__(self):\n",
        "        return f\"{self.numerator}/{self.denominator}\"\n",
        "\n",
        "# Example usage:\n",
        "fraction = Fraction(3, 4)\n",
        "print(fraction)\n"
      ],
      "metadata": {
        "colab": {
          "base_uri": "https://localhost:8080/"
        },
        "id": "76aWQ__j9Y84",
        "outputId": "296ca8af-da59-49d0-d0a5-16901462cf20"
      },
      "execution_count": null,
      "outputs": [
        {
          "output_type": "stream",
          "name": "stdout",
          "text": [
            "3/4\n"
          ]
        }
      ]
    },
    {
      "cell_type": "markdown",
      "source": [
        "**Q10.** Demonstrate operator overloading by creating a class Vector and overriding the add method to add two\n",
        "vectors."
      ],
      "metadata": {
        "id": "vOcizgyGkJlO"
      }
    },
    {
      "cell_type": "code",
      "source": [
        "class Vector:\n",
        "    def __init__(self, x, y):\n",
        "        self.x = x\n",
        "        self.y = y\n",
        "\n",
        "    def __add__(self, other):\n",
        "        return Vector(self.x + other.x, self.y + other.y)\n",
        "\n",
        "    def __str__(self):\n",
        "        return f\"Vector({self.x}, {self.y})\"\n",
        "vector1 = Vector(2, 3)\n",
        "vector2 = Vector(4, 5)\n",
        "result = vector1 + vector2\n",
        "print(result)"
      ],
      "metadata": {
        "colab": {
          "base_uri": "https://localhost:8080/"
        },
        "id": "66ESc2VR9zYT",
        "outputId": "2afde8f3-ad00-4c76-c0a2-4dcb8c2e3c87"
      },
      "execution_count": null,
      "outputs": [
        {
          "output_type": "stream",
          "name": "stdout",
          "text": [
            "Vector(6, 8)\n"
          ]
        }
      ]
    },
    {
      "cell_type": "markdown",
      "source": [
        "**Q11.** Create a class Person with attributes name and age. Add a method greet() that prints \"Hello, my name is\n",
        "{name} and I am {age} years old.\"."
      ],
      "metadata": {
        "id": "sxvyBeFCkMVh"
      }
    },
    {
      "cell_type": "code",
      "source": [
        "class Person:\n",
        "    def __init__(self, name, age):\n",
        "        self.name = name\n",
        "        self.age = age\n",
        "\n",
        "    def greet(self):\n",
        "        print(f\"Hello, my name is {self.name} and I am {self.age} years old.\")\n",
        "\n",
        "person = Person(\"Avi\", 6)\n",
        "person.greet()"
      ],
      "metadata": {
        "colab": {
          "base_uri": "https://localhost:8080/"
        },
        "id": "aWuKxzvHIvc3",
        "outputId": "af303daa-5524-486f-9d83-0dfd2f76ae52"
      },
      "execution_count": null,
      "outputs": [
        {
          "output_type": "stream",
          "name": "stdout",
          "text": [
            "Hello, my name is Avi and I am 6 years old.\n"
          ]
        }
      ]
    },
    {
      "cell_type": "markdown",
      "source": [
        "**Q12.** Implement a class Student with attributes name and grades. Create a method average_grade() to compute\n",
        "the average of the grades."
      ],
      "metadata": {
        "id": "30SQg7afkPX4"
      }
    },
    {
      "cell_type": "code",
      "source": [
        "class Student:\n",
        "    def __init__(self, name, grades):\n",
        "        self.name = name\n",
        "        self.grades = grades\n",
        "\n",
        "    def average_grade(self):\n",
        "        return sum(self.grades) / len(self.grades)\n",
        "\n",
        "student = Student(\"Adwita\", [90, 85, 92, 88, 79])\n",
        "average = student.average_grade()\n",
        "print(f\"{student.name}'s average grade: {average:.2f}\")"
      ],
      "metadata": {
        "colab": {
          "base_uri": "https://localhost:8080/"
        },
        "id": "IVKp7XxXJSUm",
        "outputId": "0bbc85a4-d45d-463d-924f-43f26c274fdf"
      },
      "execution_count": null,
      "outputs": [
        {
          "output_type": "stream",
          "name": "stdout",
          "text": [
            "Adwita's average grade: 86.80\n"
          ]
        }
      ]
    },
    {
      "cell_type": "markdown",
      "source": [
        "**Q13.**Create a class Rectangle with methods set_dimensions() to set the dimensions and area() to calculate the\n",
        "area."
      ],
      "metadata": {
        "id": "GowHwPW1kR1_"
      }
    },
    {
      "cell_type": "code",
      "source": [
        "class Rectangle:\n",
        "    def __init__(self):\n",
        "        self.length = 0\n",
        "        self.width = 0\n",
        "    def set_dimensions(self, length, width):\n",
        "        self.length = length\n",
        "        self.width = width\n",
        "    def area(self):\n",
        "        return self.length * self.width\n",
        "# Example usage:\n",
        "rectangle = Rectangle()\n",
        "rectangle.set_dimensions(4, 5)\n",
        "print(f\"Area of the rectangle: {rectangle.area()}\")\n"
      ],
      "metadata": {
        "colab": {
          "base_uri": "https://localhost:8080/"
        },
        "id": "dKHhC_-5J5Tl",
        "outputId": "78fa16e3-4f72-4bc6-8d5d-239440d1477c"
      },
      "execution_count": null,
      "outputs": [
        {
          "output_type": "stream",
          "name": "stdout",
          "text": [
            "Area of the rectangle: 20\n"
          ]
        }
      ]
    },
    {
      "cell_type": "markdown",
      "source": [
        "**Q14.**Create a class Employee with a method calculate_salary() that computes the salary based on hours worked\n",
        "and hourly rate. Create a derived class Manager that adds a bonus to the salary."
      ],
      "metadata": {
        "id": "s_ujyP7BksAD"
      }
    },
    {
      "cell_type": "code",
      "source": [
        "class Employee:\n",
        "    def __init__(self, name, hours_worked, hourly_rate):\n",
        "        self.name = name\n",
        "        self.hours_worked = hours_worked\n",
        "        self.hourly_rate = hourly_rate\n",
        "    def calculate_salary(self):\n",
        "        return self.hours_worked * self.hourly_rate\n",
        "class Manager(Employee):\n",
        "    def __init__(self, name, hours_worked, hourly_rate, bonus):\n",
        "        super().__init__(name, hours_worked, hourly_rate)\n",
        "        self.bonus = bonus\n",
        "    def calculate_salary(self):\n",
        "        base_salary = super().calculate_salary()\n",
        "        return base_salary + self.bonus\n",
        "\n",
        "employee = Employee(\"Ankit\", 40, 25)\n",
        "print(f\"{employee.name}'s salary: {employee.calculate_salary()}\")\n",
        "\n",
        "manager = Manager(\"Rohan\", 40, 30, 500)\n",
        "print(f\"{manager.name}'s salary: {manager.calculate_salary()}\")\n"
      ],
      "metadata": {
        "colab": {
          "base_uri": "https://localhost:8080/"
        },
        "id": "PqW505aIKbNu",
        "outputId": "602dc75f-64bf-4a71-bf9a-2a19bfc7ccfa"
      },
      "execution_count": null,
      "outputs": [
        {
          "output_type": "stream",
          "name": "stdout",
          "text": [
            "Ankit's salary: 1000\n",
            "Rohan's salary: 1700\n"
          ]
        }
      ]
    },
    {
      "cell_type": "markdown",
      "source": [
        "**Q15.** Create a class Product with attributes name, price, and quantity. Implement a method total_price() that\n",
        "calculates the total price of the product."
      ],
      "metadata": {
        "id": "vCK_ZKErkzf-"
      }
    },
    {
      "cell_type": "code",
      "source": [
        "class Product:\n",
        "    def __init__(self, name, price, quantity):\n",
        "        self.name = name\n",
        "        self.price = price\n",
        "        self.quantity = quantity\n",
        "    def total_price(self):\n",
        "        return self.price * self.quantity\n",
        "\n",
        "product = Product(\"Laptop\", 1000, 4)\n",
        "print(f\"Total price of {product.name}: {product.total_price()}\")"
      ],
      "metadata": {
        "colab": {
          "base_uri": "https://localhost:8080/"
        },
        "id": "ZV8Ys8_jLxG1",
        "outputId": "b12949e3-157a-42c3-ef73-6f1f2587c105"
      },
      "execution_count": null,
      "outputs": [
        {
          "output_type": "stream",
          "name": "stdout",
          "text": [
            "Total price of Laptop: 4000\n"
          ]
        }
      ]
    },
    {
      "cell_type": "markdown",
      "source": [
        "**Q16.** Create a class Animal with an abstract method sound(). Create two derived classes Cow and Sheep that\n",
        "implement the sound() method."
      ],
      "metadata": {
        "id": "csIN46J0lGXm"
      }
    },
    {
      "cell_type": "code",
      "source": [
        "from abc import ABC, abstractmethod\n",
        "\n",
        "class Animal(ABC):\n",
        "    @abstractmethod\n",
        "    def sound(self):\n",
        "        pass\n",
        "class Cow(Animal):\n",
        "    def sound(self):\n",
        "        print(\"Moo!\")\n",
        "class Sheep(Animal):\n",
        "    def sound(self):\n",
        "        print(\"Baa!\")\n",
        "cow = Cow()\n",
        "sheep = Sheep()\n",
        "cow.sound()\n",
        "sheep.sound()"
      ],
      "metadata": {
        "colab": {
          "base_uri": "https://localhost:8080/"
        },
        "id": "PHwkRmfYMWcO",
        "outputId": "59bbd2d1-ae30-4d7c-814b-582bd62ac38c"
      },
      "execution_count": null,
      "outputs": [
        {
          "output_type": "stream",
          "name": "stdout",
          "text": [
            "Moo!\n",
            "Baa!\n"
          ]
        }
      ]
    },
    {
      "cell_type": "markdown",
      "source": [
        "**Q17.**. Create a class Book with attributes title, author, and year_published. Add a method get_book_info() that\n",
        "returns a formatted string with the book's details ."
      ],
      "metadata": {
        "id": "cunotvPRlOJj"
      }
    },
    {
      "cell_type": "code",
      "source": [
        "class Book:\n",
        "    def __init__(self, title, author, year_published):\n",
        "        self.title = title\n",
        "        self.author = author\n",
        "        self.year_published = year_published\n",
        "    def get_book_info(self):\n",
        "        return f\"Title: {self.title}, Author: {self.author}, Year Published: {self.year_published}\"\n",
        "book = Book(\"Energize your Mind\", \"Gaur Gopal Das\", 1923)\n",
        "print(book.get_book_info())"
      ],
      "metadata": {
        "colab": {
          "base_uri": "https://localhost:8080/"
        },
        "id": "jS_0aIrtS0QK",
        "outputId": "60c39201-addf-47c1-e6c7-b6acbe6752f8"
      },
      "execution_count": 25,
      "outputs": [
        {
          "output_type": "stream",
          "name": "stdout",
          "text": [
            "Title: Energize your Mind, Author: Gaur Gopal Das, Year Published: 1923\n"
          ]
        }
      ]
    },
    {
      "cell_type": "markdown",
      "source": [
        "**Q18.** . Create a class House with attributes address and price. Create a derived class Mansion that adds an\n",
        "attribute number_of_rooms."
      ],
      "metadata": {
        "id": "tNI_NltzlWDz"
      }
    },
    {
      "cell_type": "code",
      "source": [
        "class House:\n",
        "    def __init__(self, address, price):\n",
        "        self.address = address\n",
        "        self.price = price\n",
        "class Mansion(House):\n",
        "    def __init__(self, address, price, number_of_rooms):\n",
        "        super().__init__(address, price)\n",
        "        self.number_of_rooms = number_of_rooms\n",
        "    def get_info(self):\n",
        "        return f\"Address: {self.address}, Price: {self.price}, Number of Rooms: {self.number_of_rooms}\"\n",
        "\n",
        "house = House(\"145 Mira road\", 250000)\n",
        "print(f\"House Address: {house.address}, Price: {house.price}\")\n",
        "mansion = Mansion(\"405 golden tulip\", 1200000, 16)\n",
        "print(mansion.get_info())"
      ],
      "metadata": {
        "colab": {
          "base_uri": "https://localhost:8080/"
        },
        "id": "yA4nk4ehUBE6",
        "outputId": "163a8ea7-004e-4f7b-aafb-dfc0eed35515"
      },
      "execution_count": 26,
      "outputs": [
        {
          "output_type": "stream",
          "name": "stdout",
          "text": [
            "House Address: 145 Mira road, Price: 250000\n",
            "Address: 405 golden tulip, Price: 1200000, Number of Rooms: 16\n"
          ]
        }
      ]
    }
  ]
}